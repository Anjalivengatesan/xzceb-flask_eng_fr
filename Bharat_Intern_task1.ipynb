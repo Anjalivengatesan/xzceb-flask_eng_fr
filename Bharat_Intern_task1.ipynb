{
 "cells": [
  {
   "cell_type": "code",
   "execution_count": 1,
   "id": "a0559e39",
   "metadata": {},
   "outputs": [
    {
     "name": "stderr",
     "output_type": "stream",
     "text": [
      "C:\\Users\\use\\anaconda3\\lib\\site-packages\\scipy\\__init__.py:138: UserWarning: A NumPy version >=1.16.5 and <1.23.0 is required for this version of SciPy (detected version 1.24.3)\n",
      "  warnings.warn(f\"A NumPy version >={np_minversion} and <{np_maxversion} is required for this version of \"\n"
     ]
    },
    {
     "name": "stdout",
     "output_type": "stream",
     "text": [
      "   SepalLength  SepalWidth  PetalLength  PetalWidth      Species\n",
      "0          4.9         3.0          1.4         0.2  Iris-setosa\n",
      "1          4.7         3.2          1.3         0.2  Iris-setosa\n",
      "2          4.6         3.1          1.5         0.2  Iris-setosa\n",
      "3          5.0         3.6          1.4         0.2  Iris-setosa\n",
      "4          5.4         3.9          1.7         0.4  Iris-setosa\n",
      "Enter Sepal Length: 5.6\n",
      "Enter Petal Length: 0.8\n",
      "Predicted Species: Iris-setosa\n",
      "Accuracy: 0.9\n"
     ]
    }
   ],
   "source": [
    "import pandas as pd\n",
    "import numpy as np\n",
    "from sklearn.linear_model import LogisticRegression\n",
    "from sklearn.model_selection import train_test_split\n",
    "from sklearn.metrics import accuracy_score\n",
    "import matplotlib.pyplot as plt\n",
    "# Load the Iris dataset\n",
    "data = pd.read_csv(\"iris.csv\")\n",
    "data.rename(columns={'5.1': 'SepalLength', '3.5': 'SepalWidth', '1.4': 'PetalLength', '0.2': 'PetalWidth', 'Iris-setosa': 'Species'}, inplace=True)\n",
    "print(data.head())\n",
    "# Select features (sepal length and petal length) and target variable (species)\n",
    "X = data[['SepalLength', 'PetalLength']]\n",
    "y = data['Species']\n",
    "\n",
    "# Initialize and train a Logistic Regression classifier\n",
    "classifier = LogisticRegression()\n",
    "classifier.fit(X, y)\n",
    "\n",
    "# Function to predict species based on user input\n",
    "def predict_species(sepal_length, petal_length):\n",
    "    input_data = np.array([[sepal_length, petal_length]])\n",
    "    prediction = classifier.predict(input_data)\n",
    "    return prediction[0]\n",
    "\n",
    "# Get user input\n",
    "sepal_length = float(input(\"Enter Sepal Length: \"))\n",
    "petal_length = float(input(\"Enter Petal Length: \"))\n",
    "\n",
    "# Predict species based on user input\n",
    "predicted_species = predict_species(sepal_length, petal_length)\n",
    "\n",
    "print(\"Predicted Species:\", predicted_species)\n",
    "# Split the data into training and testing sets\n",
    "X_train, X_test, y_train, y_test = train_test_split(X, y, test_size=0.2, random_state=42)\n",
    "\n",
    "# Initialize and train a Logistic Regression classifier\n",
    "classifier = LogisticRegression()\n",
    "classifier.fit(X_train, y_train)\n",
    "\n",
    "# Make predictions on the test set\n",
    "y_pred = classifier.predict(X_test)\n",
    "\n",
    "# Calculate the accuracy of the model\n",
    "accuracy = accuracy_score(y_test, y_pred)\n",
    "print(\"Accuracy:\", accuracy)\n"
   ]
  },
  {
   "cell_type": "code",
   "execution_count": 2,
   "id": "709c0cfb",
   "metadata": {},
   "outputs": [
    {
     "name": "stdout",
     "output_type": "stream",
     "text": [
      "Mean Squared Error: 0.3796210550749182\n",
      "R-squared: 0.4292271010751494\n",
      "Predicted Quality of New Wine: 5.335722172052286\n"
     ]
    },
    {
     "data": {
      "image/png": "[encoded data removed]",
      "text/plain": [
       "<Figure size 432x288 with 1 Axes>"
      ]
     },
     "metadata": {
      "needs_background": "light"
     },
     "output_type": "display_data"
    },
    {
     "name": "stdout",
     "output_type": "stream",
     "text": [
      "Predicted Wine Quality: [5.33572217]\n"
     ]
    }
   ],
   "source": [
    "import pandas as pd\n",
    "import numpy as np\n",
    "from sklearn.model_selection import train_test_split\n",
    "from sklearn.linear_model import LinearRegression\n",
    "from sklearn.metrics import mean_squared_error, r2_score\n",
    "\n",
    "# Step 2: Load and Explore Data\n",
    "data = pd.read_csv(\"winequality_red.csv\")\n",
    "\n",
    "# Step 3: Data Preprocessing\n",
    "# Assuming 'quality' is the target variable\n",
    "X = data.drop('quality', axis=1)\n",
    "y = data['quality']\n",
    "\n",
    "# Split the data into training and testing sets (e.g., 80% training, 20% testing)\n",
    "X_train, X_test, y_train, y_test = train_test_split(X, y, test_size=0.2, random_state=42)\n",
    "\n",
    "# Step 4: Linear Regression Model\n",
    "model = LinearRegression()\n",
    "model.fit(X_train, y_train)\n",
    "\n",
    "# Step 5: Model Evaluation\n",
    "y_pred = model.predict(X_test)\n",
    "\n",
    "# Calculate metrics\n",
    "mse = mean_squared_error(y_test, y_pred)\n",
    "r2 = r2_score(y_test, y_pred)\n",
    "\n",
    "print(\"Mean Squared Error:\", mse)\n",
    "print(\"R-squared:\", r2)\n",
    "\n",
    "# Step 6: Prediction\n",
    "# You can use the model to predict the quality of new wines\n",
    "new_data = np.array([[7.0, 0.6, 0.0, 1.8, 0.075, 15.0, 56.0, 0.9970, 3.4, 0.8, 9.2]])\n",
    "predicted_quality = model.predict(new_data)\n",
    "print(\"Predicted Quality of New Wine:\", predicted_quality[0])\n",
    "plt.scatter(y, model.predict(X), alpha=0.5)\n",
    "plt.xlabel(\"Actual Wine Quality\")\n",
    "plt.ylabel(\"Predicted Wine Quality\")\n",
    "\n",
    "# Plot the regression line\n",
    "plt.plot([min(y), max(y)], [min(y), max(y)], color='red', linestyle='--', linewidth=2)\n",
    "\n",
    "plt.title(\"Regression Line for Wine Quality Prediction\")\n",
    "plt.show()\n",
    "\n",
    "print(\"Predicted Wine Quality:\", predicted_quality)"
   ]
  },
  {
   "cell_type": "code",
   "execution_count": null,
   "id": "90ef5ef0",
   "metadata": {},
   "outputs": [],
   "source": []
  }
 ],
 "metadata": {
  "kernelspec": {
   "display_name": "Python 3",
   "language": "python",
   "name": "python3"
  },
  "language_info": {
   "codemirror_mode": {
    "name": "ipython",
    "version": 3
   },
   "file_extension": ".py",
   "mimetype": "text/x-python",
   "name": "python",
   "nbconvert_exporter": "python",
   "pygments_lexer": "ipython3",
   "version": "3.8.8"
  }
 },
 "nbformat": 4,
 "nbformat_minor": 5
}
