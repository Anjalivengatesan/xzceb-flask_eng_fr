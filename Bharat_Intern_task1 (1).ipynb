{
 "cells": [
  {
   "cell_type": "code",
   "execution_count": 1,
   "id": "a0559e39",
   "metadata": {},
   "outputs": [
    {
     "name": "stderr",
     "output_type": "stream",
     "text": [
      "C:\\Users\\use\\anaconda3\\lib\\site-packages\\scipy\\__init__.py:138: UserWarning: A NumPy version >=1.16.5 and <1.23.0 is required for this version of SciPy (detected version 1.24.3)\n",
      "  warnings.warn(f\"A NumPy version >={np_minversion} and <{np_maxversion} is required for this version of \"\n"
     ]
    },
    {
     "name": "stdout",
     "output_type": "stream",
     "text": [
      "   SepalLength  SepalWidth  PetalLength  PetalWidth      Species\n",
      "0          4.9         3.0          1.4         0.2  Iris-setosa\n",
      "1          4.7         3.2          1.3         0.2  Iris-setosa\n",
      "2          4.6         3.1          1.5         0.2  Iris-setosa\n",
      "3          5.0         3.6          1.4         0.2  Iris-setosa\n",
      "4          5.4         3.9          1.7         0.4  Iris-setosa\n",
      "Enter Sepal Length: 5.6\n",
      "Enter Petal Length: 0.8\n",
      "Predicted Species: Iris-setosa\n",
      "Accuracy: 0.9\n"
     ]
    }
   ],
   "source": [
    "import pandas as pd\n",
    "import numpy as np\n",
    "from sklearn.linear_model import LogisticRegression\n",
    "from sklearn.model_selection import train_test_split\n",
    "from sklearn.metrics import accuracy_score\n",
    "import matplotlib.pyplot as plt\n",
    "# Load the Iris dataset\n",
    "data = pd.read_csv(\"iris.csv\")\n",
    "data.rename(columns={'5.1': 'SepalLength', '3.5': 'SepalWidth', '1.4': 'PetalLength', '0.2': 'PetalWidth', 'Iris-setosa': 'Species'}, inplace=True)\n",
    "print(data.head())\n",
    "# Select features (sepal length and petal length) and target variable (species)\n",
    "X = data[['SepalLength', 'PetalLength']]\n",
    "y = data['Species']\n",
    "\n",
    "# Initialize and train a Logistic Regression classifier\n",
    "classifier = LogisticRegression()\n",
    "classifier.fit(X, y)\n",
    "\n",
    "# Function to predict species based on user input\n",
    "def predict_species(sepal_length, petal_length):\n",
    "    input_data = np.array([[sepal_length, petal_length]])\n",
    "    prediction = classifier.predict(input_data)\n",
    "    return prediction[0]\n",
    "\n",
    "# Get user input\n",
    "sepal_length = float(input(\"Enter Sepal Length: \"))\n",
    "petal_length = float(input(\"Enter Petal Length: \"))\n",
    "\n",
    "# Predict species based on user input\n",
    "predicted_species = predict_species(sepal_length, petal_length)\n",
    "\n",
    "print(\"Predicted Species:\", predicted_species)\n",
    "# Split the data into training and testing sets\n",
    "X_train, X_test, y_train, y_test = train_test_split(X, y, test_size=0.2, random_state=42)\n",
    "\n",
    "# Initialize and train a Logistic Regression classifier\n",
    "classifier = LogisticRegression()\n",
    "classifier.fit(X_train, y_train)\n",
    "\n",
    "# Make predictions on the test set\n",
    "y_pred = classifier.predict(X_test)\n",
    "\n",
    "# Calculate the accuracy of the model\n",
    "accuracy = accuracy_score(y_test, y_pred)\n",
    "print(\"Accuracy:\", accuracy)\n"
   ]
  },
  {
   "cell_type": "code",
   "execution_count": null,
   "id": "90ef5ef0",
   "metadata": {},
   "outputs": [],
   "source": []
  }
 ],
 "metadata": {
  "kernelspec": {
   "display_name": "Python 3",
   "language": "python",
   "name": "python3"
  },
  "language_info": {
   "codemirror_mode": {
    "name": "ipython",
    "version": 3
   },
   "file_extension": ".py",
   "mimetype": "text/x-python",
   "name": "python",
   "nbconvert_exporter": "python",
   "pygments_lexer": "ipython3",
   "version": "3.8.8"
  }
 },
 "nbformat": 4,
 "nbformat_minor": 5
}
